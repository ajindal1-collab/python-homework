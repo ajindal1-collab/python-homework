{
 "cells": [
  {
   "cell_type": "markdown",
   "metadata": {},
   "source": [
    "# Homework 1\n",
    "\n",
    "~~The total number of months included in the dataset.~~\n",
    "    \n",
    "    * It looks like all the months are in one month increments, so a simple len of the rows will yield the number of months:\n",
    "    * var-name = period\n",
    "\n",
    "The net total amount of Profit/Losses over the entire period.\n",
    "    \n",
    "    * take sum of profit/loss column\n",
    "    * var name = total_net_income\n",
    "\n",
    "The average of the changes in Profit/Losses over the entire period.\n",
    "\n",
    "    * take sum of profit/loss column and divide it by total number of months\n",
    "    * var name = avg_net_income; avg_net_income = total_net_income/period\n",
    "\n",
    "The greatest increase in profits (date and amount) over the entire period.\n",
    "\n",
    "    * max of total_net_income\n",
    "   \n",
    "\n",
    "The greatest decrease in losses (date and amount) over the entire period."
   ]
  },
  {
   "cell_type": "code",
   "execution_count": 1,
   "metadata": {},
   "outputs": [
    {
     "name": "stdout",
     "output_type": "stream",
     "text": [
      "budget_data.csv\n"
     ]
    }
   ],
   "source": [
    "from pathlib import Path\n",
    "import csv\n",
    "\n",
    "# Set the file path\n",
    "csvpath = Path('./budget_data.csv')\n",
    "\n",
    "print(csvpath)"
   ]
  },
  {
   "cell_type": "code",
   "execution_count": 2,
   "metadata": {},
   "outputs": [],
   "source": [
    "#intializing key metrics\n",
    "count = 0\n",
    "max_income = 0\n",
    "max_date = 0\n",
    "min_income = 0\n",
    "min_date = 0\n",
    "sum_profit = 0\n",
    "profit_change_list = []\n",
    "\n",
    "profit_previous_month = 0\n",
    "\n",
    "profit_max_change = 0\n",
    "profit_min_change = 0\n",
    "\n",
    "profit_min_change_date = 'some_date'\n",
    "profit_max_change_date = 'some date'"
   ]
  },
  {
   "cell_type": "code",
   "execution_count": 8,
   "metadata": {},
   "outputs": [],
   "source": [
    "with open(csvpath, 'r') as csvfile:    \n",
    "    csvreader = csv.reader(csvfile, delimiter=',')\n",
    "    \n",
    "    next(csvreader)\n",
    "    \n",
    "    #Initialize variable for Date and Profit\n",
    "    for row in csvreader:\n",
    "        \n",
    "        # establishing variables for things we care about\n",
    "        date = row[0]\n",
    "        profit = int(row[1])\n",
    "        \n",
    "        #finding how many months in dataset\n",
    "        count += 1\n",
    "        \n",
    "        #finding max income        \n",
    "        if profit > max_income:\n",
    "            max_income = profit\n",
    "            max_date = date\n",
    "#             print(max_income)\n",
    "            \n",
    "            \n",
    "        #find min income\n",
    "        if profit < min_income:\n",
    "            min_income = profit\n",
    "            min_date = date\n",
    "        \n",
    "        # sum of profit:\n",
    "        sum_profit = sum_profit + profit\n",
    "        \n",
    "#         print(date, profit)\n",
    "        \n",
    "        \n",
    "        # profit_change = (profit_current_month - profit_previous_month) can override previous month variable once we perform this calc\n",
    "        # so that the next iteration uses the 'current month' as a new 'previous month'\n",
    "        profit_change = profit - profit_previous_month\n",
    "        profit_previous_month = profit\n",
    "        \n",
    "        profit_change_list.append(profit_change)\n",
    "    #profit_max_change will store the information\n",
    "        if profit_change > profit_max_change:\n",
    "            profit_max_change = profit_change\n",
    "            profit_max_change_date = date\n",
    "        \n",
    "        if profit_change < profit_min_change:\n",
    "            profit_min_change = profit_change\n",
    "            profit_min_change_date = date\n",
    "        \n",
    "    avg_profit = sum(profit_change_list)/len(profit_change_list)"
   ]
  },
  {
   "cell_type": "code",
   "execution_count": 9,
   "metadata": {},
   "outputs": [
    {
     "name": "stdout",
     "output_type": "stream",
     "text": [
      "Feb-2012 had a maximum profit of: 1170593\n",
      "Sep-2013 had a minimum profit of: -1196225\n",
      "Total profit was: 76765156\n",
      "3901.7383720930234\n"
     ]
    }
   ],
   "source": [
    "print(f'{max_date} had a maximum profit of: {max_income}')\n",
    "print(f'{min_date} had a minimum profit of: {min_income}')\n",
    "print(f'Total profit was: {sum_profit}')\n",
    "print(avg_profit)"
   ]
  },
  {
   "cell_type": "code",
   "execution_count": 5,
   "metadata": {},
   "outputs": [
    {
     "name": "stdout",
     "output_type": "stream",
     "text": [
      "Feb-2012 had a maximum CHANGE in profit of: 1926159\n",
      "Sep-2013 had a minimum CHANGE in profit of: -2196167\n"
     ]
    }
   ],
   "source": [
    "print(f'{profit_max_change_date} had a maximum CHANGE in profit of: {profit_max_change}')\n",
    "print(f'{profit_min_change_date} had a minimum CHANGE in profit of: {profit_min_change}')"
   ]
  },
  {
   "cell_type": "code",
   "execution_count": 6,
   "metadata": {},
   "outputs": [
    {
     "name": "stdout",
     "output_type": "stream",
     "text": [
      "86\n"
     ]
    }
   ],
   "source": [
    "print(count)"
   ]
  },
  {
   "cell_type": "code",
   "execution_count": 7,
   "metadata": {},
   "outputs": [],
   "source": [
    "header = (\"Financial Analytiics\")\n",
    "line_break = (\"------------------------------------------\")\n",
    "\n",
    "# Create a list of metrics\n",
    "date_max = [max_date]\n",
    "date_min = [min_date]\n",
    "income_max = [max_income]\n",
    "income_min = [min_income]\n",
    "profit_change_min_date = [profit_min_change_date]\n",
    "profit_change_max_date = [profit_max_change_date]\n",
    "profit_change_max  = [profit_max_change]\n",
    "profit_change_min = [profit_min_change]\n",
    "count_months = [count]\n",
    "average = [sum_profit]\n",
    "average_change = [avg_profit]\n",
    "\n",
    "# Set the output file path\n",
    "output_path = Path('output.txt')\n",
    "\n",
    "# Open the output path as a file object\n",
    "with open(output_path, 'w') as csvfile:\n",
    "    # Set the file object as a csvwriter object\n",
    "    csvwriter = csv.writer(csvfile, delimiter=',')\n",
    "    # Write the header to the output file\n",
    "    csvwriter.writerow({header})\n",
    "    csvwriter.writerow({line_break})\n",
    "    \n",
    "    # Write the list of metrics to the output file\n",
    "    csvwriter.writerow({f'Total Months: {count_months}'})\n",
    "    csvwriter.writerow({f'Total: ${average}'})\n",
    "    csvwriter.writerow({f'Average Change: ${average_change}'})\n",
    "    csvwriter.writerow({f'Greatest Increase in Profits:{profit_change_max_date} ${profit_change_max}'})\n",
    "    csvwriter.writerow({f'Greatest Increase in Profits:{profit_change_min_date} ${profit_change_min}'})\n",
    "\n"
   ]
  },
  {
   "cell_type": "code",
   "execution_count": null,
   "metadata": {},
   "outputs": [],
   "source": []
  },
  {
   "cell_type": "code",
   "execution_count": null,
   "metadata": {},
   "outputs": [],
   "source": []
  }
 ],
 "metadata": {
  "kernelspec": {
   "display_name": "Python 3",
   "language": "python",
   "name": "python3"
  },
  "language_info": {
   "codemirror_mode": {
    "name": "ipython",
    "version": 3
   },
   "file_extension": ".py",
   "mimetype": "text/x-python",
   "name": "python",
   "nbconvert_exporter": "python",
   "pygments_lexer": "ipython3",
   "version": "3.7.6"
  }
 },
 "nbformat": 4,
 "nbformat_minor": 4
}
